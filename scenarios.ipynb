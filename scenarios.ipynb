{
 "cells": [
  {
   "cell_type": "code",
   "execution_count": 1,
   "id": "08004089",
   "metadata": {},
   "outputs": [
    {
     "name": "stderr",
     "output_type": "stream",
     "text": [
      "/var/folders/k0/b16qfl8d0wb9sg1p820yhndm0000gn/T/ipykernel_29926/3763631997.py:2: DeprecationWarning: \n",
      "Pyarrow will become a required dependency of pandas in the next major release of pandas (pandas 3.0),\n",
      "(to allow more performant data types, such as the Arrow string type, and better interoperability with other libraries)\n",
      "but was not found to be installed on your system.\n",
      "If this would cause problems for you,\n",
      "please provide us feedback at https://github.com/pandas-dev/pandas/issues/54466\n",
      "        \n",
      "  import pandas as pd\n"
     ]
    }
   ],
   "source": [
    "import numpy as np\n",
    "import pandas as pd\n",
    "import json\n",
    "import plotly.express as px"
   ]
  },
  {
   "cell_type": "code",
   "execution_count": 2,
   "id": "21238387",
   "metadata": {},
   "outputs": [],
   "source": [
    "# config = {\n",
    "#     'person1': {\n",
    "#         \"age_starting\": 24,\n",
    "#         \"age_retirement\": 60,\n",
    "#         \"age_sim_end\": 100,\n",
    "#         \"number_of_runs\": 10000,\n",
    "#         \"amount_starting\": 0,\n",
    "#         \"contribution_monthly\": 3500,\n",
    "#         \"retirement_drawdown_monthly\": 10000,\n",
    "#         \"inflation_mean\": 0.05,\n",
    "#         \"inflation_std\":  0.01,\n",
    "#         \"growth_mean\": 0.10,\n",
    "#         \"growth_std\": 0.010,\n",
    "#     }\n",
    "# }\n",
    "# config_json = json.dumps(config, indent=2)\n",
    "# with open('config.json', 'w') as outfile:\n",
    "#     outfile.write(config_json)"
   ]
  },
  {
   "cell_type": "code",
   "execution_count": 3,
   "id": "416448e2",
   "metadata": {},
   "outputs": [],
   "source": [
    "config = json.load(open('config.json'))['person1']"
   ]
  },
  {
   "cell_type": "code",
   "execution_count": 4,
   "id": "7a573f3f",
   "metadata": {},
   "outputs": [],
   "source": [
    "config['growth_std'] = config['growth_std']/np.sqrt(12)  # fact sheets shows annulaised standard devivation..."
   ]
  },
  {
   "cell_type": "code",
   "execution_count": 5,
   "id": "fd736d94",
   "metadata": {},
   "outputs": [],
   "source": [
    "periods = (config['age_sim_end'] - config['age_starting'])*12 + 1\n",
    "drawdown_start_period = (config['age_retirement'] - config['age_starting'])*12 + 1"
   ]
  },
  {
   "cell_type": "code",
   "execution_count": 6,
   "id": "4c2f6136",
   "metadata": {},
   "outputs": [],
   "source": [
    "size = (periods, config['number_of_runs'])"
   ]
  },
  {
   "cell_type": "code",
   "execution_count": 7,
   "id": "e4944730",
   "metadata": {},
   "outputs": [],
   "source": [
    "inflation = np.random.normal(config['inflation_mean'], config['inflation_std'], size=size)\n",
    "growth = np.random.normal(config['growth_mean'], config['growth_std'], size=size)\n",
    "delta_growth = (growth - inflation)/12"
   ]
  },
  {
   "cell_type": "code",
   "execution_count": 8,
   "id": "471bd310",
   "metadata": {},
   "outputs": [],
   "source": [
    "scenarios = np.ones(size)"
   ]
  },
  {
   "cell_type": "code",
   "execution_count": 9,
   "id": "a851bb3e",
   "metadata": {},
   "outputs": [
    {
     "data": {
      "text/plain": [
       "(733, 10000)"
      ]
     },
     "execution_count": 9,
     "metadata": {},
     "output_type": "execute_result"
    }
   ],
   "source": [
    "scenarios[0,:] = config['amount_starting']\n",
    "for p in range(periods)[1:]:\n",
    "    if drawdown_start_period > p:\n",
    "        scenarios[p,:] = (scenarios[p-1,:] + config['contribution_monthly']) * (1+delta_growth[p,:])\n",
    "    else:\n",
    "        scenarios[p,:] = (scenarios[p-1,:] - config['retirement_drawdown_monthly']) * (1+delta_growth[p,:])\n",
    "        \n",
    "scenarios[scenarios < 0] = 0\n",
    "scenarios.shape"
   ]
  },
  {
   "cell_type": "code",
   "execution_count": 10,
   "id": "803fc75e",
   "metadata": {},
   "outputs": [
    {
     "data": {
      "text/plain": [
       "(7, 733)"
      ]
     },
     "execution_count": 10,
     "metadata": {},
     "output_type": "execute_result"
    }
   ],
   "source": [
    "percentiles = [1,10,25,50,75,90,99]\n",
    "scenario_stats = np.percentile(scenarios, percentiles, axis=1)\n",
    "scenario_stats.shape"
   ]
  },
  {
   "cell_type": "code",
   "execution_count": 11,
   "id": "b2049492",
   "metadata": {},
   "outputs": [],
   "source": [
    "l = [f\"{y}-{m}\" for y in range(config['age_starting'], config['age_sim_end']) for m in range(1,13)]"
   ]
  },
  {
   "cell_type": "code",
   "execution_count": 12,
   "id": "fa4621f8",
   "metadata": {},
   "outputs": [],
   "source": [
    "plot_data = pd.DataFrame(scenario_stats.T, columns = [f\"{p}\" for p in percentiles])\n",
    "plot_data.head()\n",
    "plot_data['age'] = [f\"{y:04}-{m:02}\" for y in range(config['age_starting'], config['age_sim_end']+1) for m in range(1,13)][0:len(plot_data)]\n",
    "plot_data = pd.melt(plot_data, id_vars=['age'], var_name='percentile', value_name='value')"
   ]
  },
  {
   "cell_type": "code",
   "execution_count": 13,
   "id": "435a410b",
   "metadata": {},
   "outputs": [],
   "source": [
    "fig = px.line(plot_data, x='age', y='value', color='percentile')\n",
    "fig.write_html(\"result.html\")"
   ]
  }
 ],
 "metadata": {
  "kernelspec": {
   "display_name": "Python 3 (ipykernel)",
   "language": "python",
   "name": "python3"
  },
  "language_info": {
   "codemirror_mode": {
    "name": "ipython",
    "version": 3
   },
   "file_extension": ".py",
   "mimetype": "text/x-python",
   "name": "python",
   "nbconvert_exporter": "python",
   "pygments_lexer": "ipython3",
   "version": "3.11.4"
  }
 },
 "nbformat": 4,
 "nbformat_minor": 5
}
